{
 "cells": [
  {
   "cell_type": "markdown",
   "metadata": {},
   "source": [
    "# Ejercicio 1"
   ]
  },
  {
   "cell_type": "code",
   "execution_count": 2,
   "metadata": {},
   "outputs": [],
   "source": [
    "def tankAverage(tank1,tank2,tank3):\n",
    "    average = (tank1+tank2+tank3)/3\n",
    "    return f'''average is: {average}%\n",
    "    tank1: {tank1}%\n",
    "    tank2: {tank2}%\n",
    "    tank3: {tank3}%'''"
   ]
  },
  {
   "cell_type": "markdown",
   "metadata": {},
   "source": [
    "## Llamado a la función"
   ]
  },
  {
   "cell_type": "code",
   "execution_count": 3,
   "metadata": {},
   "outputs": [
    {
     "name": "stdout",
     "output_type": "stream",
     "text": [
      "average is: 40.0%\n",
      "    tank1: 30%\n",
      "    tank1: 50%\n",
      "    tank1: 40%\n"
     ]
    }
   ],
   "source": [
    "print(tankAverage(30,50,40))"
   ]
  },
  {
   "cell_type": "markdown",
   "metadata": {},
   "source": [
    "## Sacar la funcion que evalua en una nueva"
   ]
  },
  {
   "cell_type": "code",
   "execution_count": 4,
   "metadata": {},
   "outputs": [],
   "source": [
    "def average(values):\n",
    "    return sum(values)/len(values)"
   ]
  },
  {
   "cell_type": "code",
   "execution_count": null,
   "metadata": {},
   "outputs": [],
   "source": [
    "def tankAverage(tank1,tank2,tank3):\n",
    "    data = average({tank1,tank2,tank3})\n",
    "    return f'''average is: {data}%\n",
    "    tank1: {tank1}%\n",
    "    tank2: {tank2}%\n",
    "    tank3: {tank3}%'''\n",
    "print(tankAverage(30,50,40))"
   ]
  },
  {
   "cell_type": "markdown",
   "metadata": {},
   "source": [
    "# Ejercicio 2"
   ]
  },
  {
   "cell_type": "code",
   "execution_count": null,
   "metadata": {},
   "outputs": [],
   "source": [
    "def preciseInform(pre_launchTime, flightTime, destiny, extTank, intTank):\n",
    "    return f'''Misión a: {destiny}\n",
    "    Tiempo de viaje: {pre_launchTime + flightTime} minutos\n",
    "    Combustible: {extTank + intTank} galones'''\n",
    "print(preciseInform(5, 20, \"Moon\", 150, 20))"
   ]
  },
  {
   "cell_type": "markdown",
   "metadata": {},
   "source": [
    "# Permitir multiples valores"
   ]
  },
  {
   "cell_type": "code",
   "execution_count": null,
   "metadata": {},
   "outputs": [],
   "source": [
    "def preciseInform(destiny, *flightTime, **fuel_left):\n",
    "    return f'''Misión a: {destiny}\n",
    "    Tiempo de viaje: {sum(flightTime)} minutos\n",
    "    Combustible: {sum(fuel_left.values())} galones'''\n",
    "print(preciseInform(\"Moon\", 5, 20, intTank=150, extTank= 20))"
   ]
  },
  {
   "cell_type": "markdown",
   "metadata": {},
   "source": [
    "## Modificar la funcion para mostrar el nombre de los tanques"
   ]
  },
  {
   "cell_type": "code",
   "execution_count": 26,
   "metadata": {},
   "outputs": [
    {
     "name": "stdout",
     "output_type": "stream",
     "text": [
      "Misión a: Moon\n",
      "    Tiempo de viaje: 25 minutos\n",
      "    Combustible: 170 galones\n",
      "intTank: 150 galones restantes\n",
      "extTank: 20 galones restantes\n"
     ]
    }
   ],
   "source": [
    "def preciseInform(destiny, *flightTime, **fuel_left):\n",
    "    result = f'''Misión a: {destiny}\n",
    "    Tiempo de viaje: {sum(flightTime)} minutos\n",
    "    Combustible: {sum(fuel_left.values())} galones'''\n",
    "    for name,gas in fuel_left.items():\n",
    "        result += f'\\n{name}: {gas} galones restantes'\n",
    "    return result\n",
    "print(preciseInform(\"Moon\", 5, 20, intTank=150, extTank= 20))"
   ]
  }
 ],
 "metadata": {
  "interpreter": {
   "hash": "916d53f2d73fce6f1114096684a222f391e2d578063b1cd7bfd7be5d00e4d93a"
  },
  "kernelspec": {
   "display_name": "Python 3.10.2 64-bit",
   "language": "python",
   "name": "python3"
  },
  "language_info": {
   "codemirror_mode": {
    "name": "ipython",
    "version": 3
   },
   "file_extension": ".py",
   "mimetype": "text/x-python",
   "name": "python",
   "nbconvert_exporter": "python",
   "pygments_lexer": "ipython3",
   "version": "3.10.2"
  },
  "orig_nbformat": 4
 },
 "nbformat": 4,
 "nbformat_minor": 2
}
