{
 "cells": [
  {
   "cell_type": "markdown",
   "metadata": {},
   "source": [
    "# Un asteroide se acerca, y viaja a 49 km/s"
   ]
  },
  {
   "cell_type": "code",
   "execution_count": 4,
   "metadata": {},
   "outputs": [
    {
     "name": "stdout",
     "output_type": "stream",
     "text": [
      "El asteroide va muy rapido!\n"
     ]
    }
   ],
   "source": [
    "asteroidSpeed = 49\n",
    "print ('El asteroide va muy rapido!') if asteroidSpeed > 25 else print('El asteroide esta bien')"
   ]
  },
  {
   "cell_type": "markdown",
   "metadata": {},
   "source": [
    "# Alerta personas de ver hacia el cielo"
   ]
  },
  {
   "cell_type": "code",
   "execution_count": 5,
   "metadata": {},
   "outputs": [
    {
     "name": "stdout",
     "output_type": "stream",
     "text": [
      "El asteroide va muy lento para ver la luz, pero viene\n"
     ]
    }
   ],
   "source": [
    "asteroidSpeed = 19\n",
    "if asteroidSpeed >= 20:\n",
    "    print('El asteroide va muy rapido, ¡Busquen la luz en el cielo!')\n",
    "elif asteroidSpeed >0:\n",
    "    print('El asteroide va muy lento para ver la luz, pero viene')\n",
    "else:\n",
    "    print('El asteroide no viene')"
   ]
  },
  {
   "cell_type": "markdown",
   "metadata": {},
   "source": [
    "# Sistema de advertencia completo"
   ]
  },
  {
   "cell_type": "code",
   "execution_count": 6,
   "metadata": {},
   "outputs": [
    {
     "name": "stdout",
     "output_type": "stream",
     "text": [
      "El asteroide va muy rapido, ¡Busquen la luz en el cielo!\n"
     ]
    }
   ],
   "source": [
    "asteroidSize = 25\n",
    "asteroidSpeed = 25\n",
    "\n",
    "if asteroidSize >1000:\n",
    "    print('Se acabo señores empaquen todo')\n",
    "elif asteroidSize > 25 and asteroidSpeed > 25:\n",
    "    print('¡Un asteroide peligroso se aproxima!')\n",
    "elif asteroidSpeed >= 20:\n",
    "    print('El asteroide va muy rapido, ¡Busquen la luz en el cielo!')\n",
    "elif asteroidSize <25:\n",
    "    print('Un asteroide pequeño se aproxima, se quemara en la atmosfera')\n",
    "else:\n",
    "    print('El asteroide no viene')\n"
   ]
  }
 ],
 "metadata": {
  "interpreter": {
   "hash": "916d53f2d73fce6f1114096684a222f391e2d578063b1cd7bfd7be5d00e4d93a"
  },
  "kernelspec": {
   "display_name": "Python 3.10.2 64-bit",
   "language": "python",
   "name": "python3"
  },
  "language_info": {
   "name": "python",
   "version": "3.10.2"
  },
  "orig_nbformat": 4
 },
 "nbformat": 4,
 "nbformat_minor": 2
}
